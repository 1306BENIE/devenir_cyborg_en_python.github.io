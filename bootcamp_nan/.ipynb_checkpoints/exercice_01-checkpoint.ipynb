{
 "cells": [
  {
   "cell_type": "code",
   "execution_count": 2,
   "id": "0002baa4",
   "metadata": {},
   "outputs": [
    {
     "name": "stdout",
     "output_type": "stream",
     "text": [
      "Entrer un nombre compris entre (0_10)3\n"
     ]
    },
    {
     "data": {
      "text/plain": [
       "3"
      ]
     },
     "execution_count": 2,
     "metadata": {},
     "output_type": "execute_result"
    }
   ],
   "source": [
    "def use_choise():\n",
    "    user = int(input(\"Entrer un nombre compris entre (0_10)\"))\n",
    "    while (user.isdigit() == False)\n",
    "        print(\"Erreur de saisir le nombre saisi n'est pas un entier\")\n",
    "        user = int(input(\"Entrer un nombre compris entre (0_10)\"))\n",
    "    return user\n",
    "use_choise()"
   ]
  },
  
  {
   "cell_type": "code",
   "execution_count": null,
   "id": "1068f85e",
   "metadata": {},
   "outputs": [],
   "source": []
  },
  {
   "cell_type": "code",
   "execution_count": null,
   "id": "0e2ccbbc",
   "metadata": {},
   "outputs": [],
   "source": []
  }
 ],
 "metadata": {
  "kernelspec": {
   "display_name": "Python 3 (ipykernel)",
   "language": "python",
   "name": "python3"
  },
  "language_info": {
   "codemirror_mode": {
    "name": "ipython",
    "version": 3
   },
   "file_extension": ".py",
   "mimetype": "text/x-python",
   "name": "python",
   "nbconvert_exporter": "python",
   "pygments_lexer": "ipython3",
   "version": "3.9.13"
  }
 },
 "nbformat": 4,
 "nbformat_minor": 5
}
